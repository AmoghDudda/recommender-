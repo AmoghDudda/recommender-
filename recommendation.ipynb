{
 "cells": [
  {
   "cell_type": "code",
   "execution_count": 119,
   "metadata": {},
   "outputs": [],
   "source": [
    "import pandas as pd\n",
    "from sklearn.feature_extraction.text import TfidfTransformer\n",
    "from sklearn.metrics.pairwise import cosine_similarity\n",
    "from sklearn.feature_extraction.text import TfidfVectorizer\n",
    "from sklearn.model_selection import train_test_split\n",
    "from sklearn.neighbors import NearestNeighbors\n",
    "import nltk\n",
    "import spacy\n",
    "from nltk.tokenize import word_tokenize\n",
    "from nltk.stem import PorterStemmer\n",
    "from spacy.lang.en import English\n",
    " "
   ]
  },
  {
   "cell_type": "code",
   "execution_count": 120,
   "metadata": {},
   "outputs": [],
   "source": [
    "movies=pd.read_csv('data.csv')\n"
   ]
  },
  {
   "cell_type": "code",
   "execution_count": 121,
   "metadata": {},
   "outputs": [],
   "source": [
    "new_movies=movies[['id', 'title', 'genre', 'overview']]\n",
    "df = pd.DataFrame(new_movies)\n"
   ]
  },
  {
   "cell_type": "code",
   "execution_count": 122,
   "metadata": {},
   "outputs": [],
   "source": [
    "#new_movies['tag'] = new_movies['genre'] + new_movies['overview']\n",
    "#newData=new_movies\n",
    "df['tag'] = df['genre'].str.cat(df['overview'], sep=' ')\n"
   ]
  },
  {
   "cell_type": "code",
   "execution_count": 123,
   "metadata": {},
   "outputs": [
    {
     "name": "stdout",
     "output_type": "stream",
     "text": [
      "abc\n"
     ]
    }
   ],
   "source": [
    "df = df.drop(columns=['genre', 'overview'])\n",
    "df = df.dropna(subset=['tag'])"
   ]
  },
  {
   "cell_type": "code",
   "execution_count": 124,
   "metadata": {},
   "outputs": [],
   "source": [
    "# # Download NLTK resources\n",
    "# nltk.download('punkt')\n",
    "# nltk.download('wordnet')\n",
    "# nltk.download('omw-1.4')\n",
    "\n",
    "# # Initialize SpaCy\n",
    "# nlp = spacy.load('en_core_web_sm')\n",
    "\n",
    "\n",
    "# # Check the DataFrame columns\n",
    "# print(\"DataFrame columns:\", df.columns)\n",
    "\n",
    "# # NLTK tokenization, stemming, and lemmatization using lambda functions\n",
    "# lemmatizer = nltk.WordNetLemmatizer()\n",
    "# stemmer = PorterStemmer()\n",
    "\n",
    "# nltk_tokenize_stem_and_lemmatize = lambda text: [\n",
    "#     (token, stemmer.stem(token), lemmatizer.lemmatize(token)) for token in word_tokenize(text)\n",
    "# ]\n",
    "\n",
    "# # SpaCy tokenization and lemmatization using lambda functions\n",
    "# spacy_tokenize_and_lemmatize = lambda text: [\n",
    "#     (token.text, token.lemma_) for token in nlp(text)\n",
    "# ]\n",
    "\n",
    "# # Apply tokenization, stemming, and lemmatization to DataFrame\n",
    "# df['nltk_processed'] = df['tag'].apply(nltk_tokenize_stem_and_lemmatize)  \n",
    "# df['spacy_processed'] = df['tag'].apply(spacy_tokenize_and_lemmatize)    \n",
    "\n",
    "# # # Print results\n",
    "# # print(\"Tokenization, Stemming, and Lemmatization using NLTK:\")\n",
    "# # for _, row in df.iterrows():\n",
    "# #     print(f\"Original: {row['tag']}\")  \n",
    "# #     print(f\"NLTK Processed: {row['nltk_processed']}\\n\")\n",
    "\n",
    "# # print(\"Tokenization and Lemmatization using SpaCy:\")\n",
    "# # for _, row in df.iterrows():\n",
    "# #     print(f\"Original: {row['tag']}\")  \n",
    "# #     print(f\"SpaCy Processed: {row['spacy_processed']}\\n\")"
   ]
  },
  {
   "cell_type": "code",
   "execution_count": 125,
   "metadata": {},
   "outputs": [],
   "source": [
    "# Split the data into train and test sets\n",
    "train_df, test_df = train_test_split(df, test_size=0.2, random_state=42)"
   ]
  },
  {
   "cell_type": "code",
   "execution_count": 126,
   "metadata": {},
   "outputs": [],
   "source": [
    "vectorizer = TfidfVectorizer()\n",
    "tfidf_matrix_train = vectorizer.fit_transform(train_df['tag'])\n",
    "tfidf_matrix_test = vectorizer.transform(test_df['tag'])\n",
    "# tfidf_matrix_test"
   ]
  },
  {
   "cell_type": "code",
   "execution_count": 127,
   "metadata": {},
   "outputs": [],
   "source": [
    "# # Initialize the k-NN model\n",
    "# k = 2  # Number of neighbors to use\n",
    "# knn_model = NearestNeighbors(n_neighbors=k, metric='cosine')\n",
    "\n",
    "# # Fit the model on the training data\n",
    "# knn_model.fit(tfidf_matrix_test)\n",
    "\n",
    "# # Function to get k-nearest neighbors\n",
    "# def get_k_nearest_neighbors(model, query_vector):\n",
    "#     distances, indices = model.kneighbors(query_vector)\n",
    "#     return indices[0]\n"
   ]
  },
  {
   "cell_type": "code",
   "execution_count": 128,
   "metadata": {},
   "outputs": [],
   "source": [
    "def get_knn_recommendations(movie_vector, knn, top_n=5):\n",
    "    distances, indices = knn.kneighbors(movie_vector, n_neighbors=top_n)\n",
    "    return indices[0] \n",
    "\n"
   ]
  },
  {
   "cell_type": "code",
   "execution_count": 132,
   "metadata": {},
   "outputs": [
    {
     "name": "stdout",
     "output_type": "stream",
     "text": [
      "abc\n"
     ]
    }
   ],
   "source": [
    "def evaluate_recommendations(test_df, train_df, knn, vectorizer):\n",
    "    y_true = []\n",
    "    y_pred = []\n",
    "\n",
    "    for idx, row in test_df.iterrows():\n",
    "        if row['title'] in train_df['title'].values:\n",
    "            movie_index = train_df[train_df['title'] == row['title']].index[0]\n",
    "            movie_vector = tfidf_matrix_test[idx]\n",
    "            \n",
    "            recommended_indices = get_knn_recommendations(movie_vector, knn)\n",
    "            recommended_titles = train_df.iloc[recommended_indices]['title'].tolist()\n",
    "\n",
    "            relevant_items = [row['title']]\n",
    "            recommended_items = [train_df.iloc[i]['title'] for i in recommended_indices]\n",
    "            \n",
    "            y_true.extend([1 if item in relevant_items else 0 for item in recommended_items])\n",
    "            y_pred.extend([1 if item in relevant_items else 0 for item in recommended_items])\n",
    "    \n",
    "    precision = precision_score(y_true, y_pred, average='binary')\n",
    "    recall = recall_score(y_true, y_pred, average='binary')\n",
    "    return precision, recall\n",
    "\n",
    "    \n",
    "\n",
    "\n"
   ]
  },
  {
   "cell_type": "code",
   "execution_count": null,
   "metadata": {},
   "outputs": [],
   "source": []
  }
 ],
 "metadata": {
  "kernelspec": {
   "display_name": "Python 3",
   "language": "python",
   "name": "python3"
  },
  "language_info": {
   "codemirror_mode": {
    "name": "ipython",
    "version": 3
   },
   "file_extension": ".py",
   "mimetype": "text/x-python",
   "name": "python",
   "nbconvert_exporter": "python",
   "pygments_lexer": "ipython3",
   "version": "3.12.4"
  }
 },
 "nbformat": 4,
 "nbformat_minor": 2
}
